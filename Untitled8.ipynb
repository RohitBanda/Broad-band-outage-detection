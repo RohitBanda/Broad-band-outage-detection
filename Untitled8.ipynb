{
 "cells": [
  {
   "cell_type": "code",
   "execution_count": 1,
   "id": "dfb1e427",
   "metadata": {},
   "outputs": [],
   "source": [
    "import auto_ml as ml"
   ]
  },
  {
   "cell_type": "code",
   "execution_count": 2,
   "id": "05df2afc",
   "metadata": {},
   "outputs": [],
   "source": [
    "clf=ml.load('bod.pkl')"
   ]
  },
  {
   "cell_type": "code",
   "execution_count": 3,
   "id": "51a9d03d",
   "metadata": {},
   "outputs": [
    {
     "name": "stdout",
     "output_type": "stream",
     "text": [
      "=============================Test Results===========================================\n"
     ]
    },
    {
     "data": {
      "text/html": [
       "<div>\n",
       "<style scoped>\n",
       "    .dataframe tbody tr th:only-of-type {\n",
       "        vertical-align: middle;\n",
       "    }\n",
       "\n",
       "    .dataframe tbody tr th {\n",
       "        vertical-align: top;\n",
       "    }\n",
       "\n",
       "    .dataframe thead th {\n",
       "        text-align: right;\n",
       "    }\n",
       "</style>\n",
       "<table border=\"1\" class=\"dataframe\">\n",
       "  <thead>\n",
       "    <tr style=\"text-align: right;\">\n",
       "      <th></th>\n",
       "      <th>Accuracy</th>\n",
       "      <th>AUC_ROC</th>\n",
       "      <th>Precision</th>\n",
       "      <th>Recall</th>\n",
       "      <th>F1 Score</th>\n",
       "      <th>Kappa</th>\n",
       "      <th>Log Loss</th>\n",
       "    </tr>\n",
       "    <tr>\n",
       "      <th>Model</th>\n",
       "      <th></th>\n",
       "      <th></th>\n",
       "      <th></th>\n",
       "      <th></th>\n",
       "      <th></th>\n",
       "      <th></th>\n",
       "      <th></th>\n",
       "    </tr>\n",
       "  </thead>\n",
       "  <tbody>\n",
       "    <tr>\n",
       "      <th>Logistic Regression</th>\n",
       "      <td>0.780296</td>\n",
       "      <td>None</td>\n",
       "      <td>0.73214</td>\n",
       "      <td>0.727918</td>\n",
       "      <td>0.728955</td>\n",
       "      <td>0.599483</td>\n",
       "      <td>None</td>\n",
       "    </tr>\n",
       "  </tbody>\n",
       "</table>\n",
       "</div>"
      ],
      "text/plain": [
       "                     Accuracy AUC_ROC  Precision    Recall  F1 Score  \\\n",
       "Model                                                                  \n",
       "Logistic Regression  0.780296    None    0.73214  0.727918  0.728955   \n",
       "\n",
       "                        Kappa Log Loss  \n",
       "Model                                   \n",
       "Logistic Regression  0.599483     None  "
      ]
     },
     "metadata": {},
     "output_type": "display_data"
    },
    {
     "name": "stdout",
     "output_type": "stream",
     "text": [
      "\n"
     ]
    }
   ],
   "source": [
    "clf.get_results()"
   ]
  },
  {
   "cell_type": "code",
   "execution_count": null,
   "id": "e10d21d5",
   "metadata": {},
   "outputs": [],
   "source": [
    "new_data"
   ]
  }
 ],
 "metadata": {
  "kernelspec": {
   "display_name": "Python 3 (ipykernel)",
   "language": "python",
   "name": "python3"
  },
  "language_info": {
   "codemirror_mode": {
    "name": "ipython",
    "version": 3
   },
   "file_extension": ".py",
   "mimetype": "text/x-python",
   "name": "python",
   "nbconvert_exporter": "python",
   "pygments_lexer": "ipython3",
   "version": "3.9.7"
  }
 },
 "nbformat": 4,
 "nbformat_minor": 5
}
